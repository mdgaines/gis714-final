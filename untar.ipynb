{
 "nbformat": 4,
 "nbformat_minor": 2,
 "metadata": {
  "language_info": {
   "name": "python",
   "codemirror_mode": {
    "name": "ipython",
    "version": 3
   },
   "version": "3.7.4-final"
  },
  "orig_nbformat": 2,
  "file_extension": ".py",
  "mimetype": "text/x-python",
  "name": "python",
  "npconvert_exporter": "python",
  "pygments_lexer": "ipython3",
  "version": 3,
  "kernelspec": {
   "name": "python37464bitrasterpythonconda78e274bcc92943dbac758d6c3e777bd6",
   "display_name": "Python 3.7.4 64-bit ('rasterpython': conda)"
  }
 },
 "cells": [
  {
   "cell_type": "code",
   "execution_count": 2,
   "metadata": {},
   "outputs": [],
   "source": [
    "# untar.ipynb\n",
    "# Author: Mollie Gaines\n",
    "# Last Edited: 2/13/2020\n",
    "# Purpose: extract INWM raster from DSWE .tar files in a user-specified working directory into \n",
    "#          the appropriate year/season folder\n",
    "# Usage: input directory containing .tar files\n",
    "# Example Input: Q:/My Drive/Research/DSWE_SE/Bulk Order 1060486/Dynamic Surface Water Extent\n",
    "# Example Output: Q:/My Drive/Research/data/DSWE_SE/2017/FALL/LC08_CU_019013_20171118_20181203_C01_V01_INWM.tif\n",
    "\n",
    "\n",
    "import os, tarfile"
   ]
  },
  {
   "cell_type": "code",
   "execution_count": null,
   "metadata": {},
   "outputs": [],
   "source": [
    "def untar(in_dir):\n",
    "    ''' Decompress DSWE tarfiles, extract INWM file,\n",
    "        return list of raster objects ready to be mosaicked.'''\n",
    "\n",
    "    print(\"Beginning Decompression\")\n",
    "\n",
    "    seasons = {'03':'Spring', '04':'Spring', '05':'Spring', \\\n",
    "               '06':'Summer', '07':'Summer', '08':'Summer', \\\n",
    "               '09':'Fall', '10':'Fall', '11':'Fall',\\\n",
    "               '12':'Winter', '01':'Winter', '02':'Winter'}\n",
    "\n",
    "    # Get list of all tar files in our input directory\n",
    "    tar_lst = [t for t in os.listdir(in_dir) if t.endswith(\".tar\")]\n",
    "\n",
    "    for i in range(len(tar_lst)):\n",
    "        tarfilename = tar_lst[i]\n",
    "\n",
    "        yr = tarfilename[15:19]       # index file name to get year of collection\n",
    "        mnth = tarfilename[19:21]      # index to get month of collection\n",
    "        szn = seasons[mnth]\n",
    "\n",
    "        if mnth == '01' or mnth == '02':   # this will make sure our year winter\n",
    "            yr = str(int(yr) - 1)          # makes sense (Dec18, Jan19, Feb19) for the ./2018/Winter folder\n",
    "        \n",
    "        out_dir = os.path.join('../data/DSWE_SE',yr,szn)\n",
    "            \n",
    "        inwm_file = tarfilename.replace(\"SW.tar\", \"INWM.tif\")\n",
    "        tarfile_path = os.path.join(in_dir, tarfilename)\n",
    "\n",
    "        tar = tarfile.open(tarfile_path)\n",
    "        tar.extract(inwm_file, path=out_dir)\n",
    "        tar.close()\n",
    "\n",
    "        if not (i % 500): # most folders with tar files have 2,000 so we should get updates every 25%\n",
    "            print('{}% complete.'.format(i/len(tar_lst) * 100))\n",
    "\n",
    "\n",
    "    print(\"Decompression Complete\")\n",
    "    return"
   ]
  },
  {
   "cell_type": "code",
   "execution_count": null,
   "metadata": {},
   "outputs": [],
   "source": [
    "print('Please input your .tar files directory: ')\n",
    "input_dir = input()\n",
    "\n",
    "untar(input_dir)"
   ]
  },
  {
   "cell_type": "code",
   "execution_count": null,
   "metadata": {},
   "outputs": [],
   "source": []
  },
  {
   "cell_type": "code",
   "execution_count": null,
   "metadata": {},
   "outputs": [],
   "source": []
  },
  {
   "cell_type": "code",
   "execution_count": 20,
   "metadata": {},
   "outputs": [
    {
     "data": {
      "text/plain": "True"
     },
     "execution_count": 20,
     "metadata": {},
     "output_type": "execute_result"
    }
   ],
   "source": [
    "not (1000 % 500)"
   ]
  },
  {
   "cell_type": "code",
   "execution_count": 27,
   "metadata": {},
   "outputs": [
    {
     "name": "stdout",
     "output_type": "stream",
     "text": "50.0 % should = 50\n"
    }
   ],
   "source": [
    "print('{} % should = 50'.format(500/1000 * 100))"
   ]
  },
  {
   "cell_type": "code",
   "execution_count": 24,
   "metadata": {},
   "outputs": [
    {
     "data": {
      "text/plain": "0.5"
     },
     "execution_count": 24,
     "metadata": {},
     "output_type": "execute_result"
    }
   ],
   "source": [
    "500/1000"
   ]
  },
  {
   "cell_type": "code",
   "execution_count": null,
   "metadata": {},
   "outputs": [],
   "source": []
  }
 ]
}